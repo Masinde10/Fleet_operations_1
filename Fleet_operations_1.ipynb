{
 "cells": [
  {
   "cell_type": "markdown",
   "id": "848208c5",
   "metadata": {},
   "source": [
    "# FLEET OPERATIONS PROJECT"
   ]
  },
  {
   "cell_type": "markdown",
   "id": "588d93c1",
   "metadata": {},
   "source": [
    "## Project Overview\n",
    "\n",
    "This project is designed to help Butali Sugar mills Limited manage it`s fleet effectively. The project is developed with the transport department of the said comapny in mind. The comapny has several vehicles that are being managed by the transport department. For the smooth running of the company processes, every department needs to work optimally, transport department included. The project aims at making sure the fleets are utilised in a manner that serves their purpose effectively."
   ]
  },
  {
   "cell_type": "markdown",
   "id": "bd0d645d",
   "metadata": {},
   "source": [
    "## Problem Statement\n",
    "\n",
    "The comapny having a huge fleet, makes it hard to handle and manage them cassually. There needs to be a system that helps to manage the same. The project at hand aims to adress some of the challenges that the department could otherwise face on fleet management. The project aims to do the following.\n",
    "\n",
    "1. Monitor Fuel, maintainance and Insurance expenses for the fleets. This helps us to determine the units that are prooving expensive to own\n",
    "2. Monitor fuel effieciency, Vehicle downtime and maintainace frequencies. This is critical for pinpointing units that are less efficient.\n",
    "3. Assess the quality of maintaince products from different suppliers. Spare parts of good quality are more durable and therefore we aim to identify which suppliers and parts are to be ordered"
   ]
  },
  {
   "cell_type": "code",
   "execution_count": 1,
   "id": "7b42dea5",
   "metadata": {},
   "outputs": [],
   "source": [
    "#Import the necessary libraries\n",
    "import pandas as pd\n",
    "import numpy as np\n",
    "import matplotlib.pyplot as plt\n",
    "%matplotlib inline\n",
    "import seaborn as sns "
   ]
  },
  {
   "cell_type": "markdown",
   "id": "11f2c675",
   "metadata": {},
   "source": [
    "## DATA UNDERSTANDING\n",
    "\n",
    "The Data we are using for this project has been sourced from the internet with the help of AI tools. I fed it with instructions of columns that I would like in my dataset and helped refine the values. The data therefore does not represent the real picture on the ground. The dataset has 2000 rows and 14 columns. The columns represent different features such as `Vehicle type, part name, supplier, Issue_reported, Fuel_consumed, Cost of ownership` etc. From the overall summary of the data, we see Float and Object present as the data type. The numerical columns are 5 while the categorical ones are 9 in total. "
   ]
  },
  {
   "cell_type": "code",
   "execution_count": 2,
   "id": "5edf7451",
   "metadata": {},
   "outputs": [
    {
     "data": {
      "text/html": [
       "<div>\n",
       "<style scoped>\n",
       "    .dataframe tbody tr th:only-of-type {\n",
       "        vertical-align: middle;\n",
       "    }\n",
       "\n",
       "    .dataframe tbody tr th {\n",
       "        vertical-align: top;\n",
       "    }\n",
       "\n",
       "    .dataframe thead th {\n",
       "        text-align: right;\n",
       "    }\n",
       "</style>\n",
       "<table border=\"1\" class=\"dataframe\">\n",
       "  <thead>\n",
       "    <tr style=\"text-align: right;\">\n",
       "      <th></th>\n",
       "      <th>Number_Plate</th>\n",
       "      <th>Vehicle_Type</th>\n",
       "      <th>Model</th>\n",
       "      <th>Part_Name</th>\n",
       "      <th>Category</th>\n",
       "      <th>Supplier</th>\n",
       "      <th>Purchase_Cost</th>\n",
       "      <th>Service_Date</th>\n",
       "      <th>Issue_Reported</th>\n",
       "      <th>Service_Type</th>\n",
       "      <th>Fuel_Consumed_Litres</th>\n",
       "      <th>Distance_Covered_KM</th>\n",
       "      <th>Insurance_Cost</th>\n",
       "      <th>Cost_of_Ownership</th>\n",
       "    </tr>\n",
       "  </thead>\n",
       "  <tbody>\n",
       "    <tr>\n",
       "      <th>0</th>\n",
       "      <td>KTCA 869H</td>\n",
       "      <td>Tractor</td>\n",
       "      <td>TS 6000</td>\n",
       "      <td>Alternator</td>\n",
       "      <td>Electrical</td>\n",
       "      <td>JKT</td>\n",
       "      <td>10743.00</td>\n",
       "      <td>08-02-25</td>\n",
       "      <td>Electrical failure</td>\n",
       "      <td>Emergency</td>\n",
       "      <td>128.68</td>\n",
       "      <td>473.41</td>\n",
       "      <td>18649.72</td>\n",
       "      <td>47172.93</td>\n",
       "    </tr>\n",
       "    <tr>\n",
       "      <th>1</th>\n",
       "      <td>KTCA 276F</td>\n",
       "      <td>Tractor</td>\n",
       "      <td>TT 490</td>\n",
       "      <td>Oil Filter</td>\n",
       "      <td>Engine</td>\n",
       "      <td>AutoGen_3</td>\n",
       "      <td>12084.84</td>\n",
       "      <td>04-10-24</td>\n",
       "      <td>Reduced engine performance</td>\n",
       "      <td>Preventive</td>\n",
       "      <td>158.94</td>\n",
       "      <td>653.48</td>\n",
       "      <td>23546.53</td>\n",
       "      <td>49502.39</td>\n",
       "    </tr>\n",
       "    <tr>\n",
       "      <th>2</th>\n",
       "      <td>KTCA 581F</td>\n",
       "      <td>Tractor</td>\n",
       "      <td>TT 490</td>\n",
       "      <td>Alternator</td>\n",
       "      <td>Electrical</td>\n",
       "      <td>AutoGen_8</td>\n",
       "      <td>10736.14</td>\n",
       "      <td>04-11-24</td>\n",
       "      <td>No power output</td>\n",
       "      <td>Breakdown</td>\n",
       "      <td>457.85</td>\n",
       "      <td>1938.07</td>\n",
       "      <td>15012.45</td>\n",
       "      <td>31148.18</td>\n",
       "    </tr>\n",
       "    <tr>\n",
       "      <th>3</th>\n",
       "      <td>KTCA 611E</td>\n",
       "      <td>Tractor</td>\n",
       "      <td>TS 6000</td>\n",
       "      <td>Alternator</td>\n",
       "      <td>Electrical</td>\n",
       "      <td>AutoGen_10</td>\n",
       "      <td>1725.43</td>\n",
       "      <td>22-07-24</td>\n",
       "      <td>No power output</td>\n",
       "      <td>Breakdown</td>\n",
       "      <td>167.20</td>\n",
       "      <td>785.78</td>\n",
       "      <td>21175.01</td>\n",
       "      <td>31810.11</td>\n",
       "    </tr>\n",
       "    <tr>\n",
       "      <th>4</th>\n",
       "      <td>KTCC 778C</td>\n",
       "      <td>Tractor</td>\n",
       "      <td>TS 6110</td>\n",
       "      <td>Hydraulic Pump</td>\n",
       "      <td>Hydraulics</td>\n",
       "      <td>JKT</td>\n",
       "      <td>2903.60</td>\n",
       "      <td>09-07-24</td>\n",
       "      <td>Hydraulic issue</td>\n",
       "      <td>Preventive</td>\n",
       "      <td>163.04</td>\n",
       "      <td>494.82</td>\n",
       "      <td>28576.05</td>\n",
       "      <td>39917.22</td>\n",
       "    </tr>\n",
       "  </tbody>\n",
       "</table>\n",
       "</div>"
      ],
      "text/plain": [
       "  Number_Plate Vehicle_Type    Model       Part_Name    Category    Supplier  \\\n",
       "0    KTCA 869H      Tractor  TS 6000      Alternator  Electrical         JKT   \n",
       "1    KTCA 276F      Tractor   TT 490      Oil Filter      Engine   AutoGen_3   \n",
       "2    KTCA 581F      Tractor   TT 490      Alternator  Electrical   AutoGen_8   \n",
       "3    KTCA 611E      Tractor  TS 6000      Alternator  Electrical  AutoGen_10   \n",
       "4    KTCC 778C      Tractor  TS 6110  Hydraulic Pump  Hydraulics         JKT   \n",
       "\n",
       "   Purchase_Cost Service_Date              Issue_Reported Service_Type  \\\n",
       "0       10743.00     08-02-25          Electrical failure    Emergency   \n",
       "1       12084.84     04-10-24  Reduced engine performance   Preventive   \n",
       "2       10736.14     04-11-24             No power output    Breakdown   \n",
       "3        1725.43     22-07-24             No power output    Breakdown   \n",
       "4        2903.60     09-07-24             Hydraulic issue   Preventive   \n",
       "\n",
       "   Fuel_Consumed_Litres  Distance_Covered_KM  Insurance_Cost  \\\n",
       "0                128.68               473.41        18649.72   \n",
       "1                158.94               653.48        23546.53   \n",
       "2                457.85              1938.07        15012.45   \n",
       "3                167.20               785.78        21175.01   \n",
       "4                163.04               494.82        28576.05   \n",
       "\n",
       "   Cost_of_Ownership  \n",
       "0           47172.93  \n",
       "1           49502.39  \n",
       "2           31148.18  \n",
       "3           31810.11  \n",
       "4           39917.22  "
      ]
     },
     "execution_count": 2,
     "metadata": {},
     "output_type": "execute_result"
    }
   ],
   "source": [
    "#Load and preview the data\n",
    "df= pd.read_csv(\"fleet_operations_1.csv\")\n",
    "df.head()"
   ]
  },
  {
   "cell_type": "code",
   "execution_count": 3,
   "id": "47fbd6d1",
   "metadata": {},
   "outputs": [
    {
     "data": {
      "text/plain": [
       "(2000, 14)"
      ]
     },
     "execution_count": 3,
     "metadata": {},
     "output_type": "execute_result"
    }
   ],
   "source": [
    "# Check for the structure of the data\n",
    "df.shape"
   ]
  },
  {
   "cell_type": "code",
   "execution_count": 4,
   "id": "906eb86c",
   "metadata": {},
   "outputs": [
    {
     "data": {
      "text/plain": [
       "Index(['Number_Plate', 'Vehicle_Type', 'Model', 'Part_Name', 'Category',\n",
       "       'Supplier', 'Purchase_Cost', 'Service_Date', 'Issue_Reported',\n",
       "       'Service_Type', 'Fuel_Consumed_Litres', 'Distance_Covered_KM',\n",
       "       'Insurance_Cost', 'Cost_of_Ownership'],\n",
       "      dtype='object')"
      ]
     },
     "execution_count": 4,
     "metadata": {},
     "output_type": "execute_result"
    }
   ],
   "source": [
    "#Check the column names of the   \n",
    "df.columns"
   ]
  },
  {
   "cell_type": "code",
   "execution_count": 5,
   "id": "2c1eb69a",
   "metadata": {},
   "outputs": [
    {
     "name": "stdout",
     "output_type": "stream",
     "text": [
      "<class 'pandas.core.frame.DataFrame'>\n",
      "RangeIndex: 2000 entries, 0 to 1999\n",
      "Data columns (total 14 columns):\n",
      " #   Column                Non-Null Count  Dtype  \n",
      "---  ------                --------------  -----  \n",
      " 0   Number_Plate          2000 non-null   object \n",
      " 1   Vehicle_Type          2000 non-null   object \n",
      " 2   Model                 2000 non-null   object \n",
      " 3   Part_Name             2000 non-null   object \n",
      " 4   Category              2000 non-null   object \n",
      " 5   Supplier              2000 non-null   object \n",
      " 6   Purchase_Cost         2000 non-null   float64\n",
      " 7   Service_Date          2000 non-null   object \n",
      " 8   Issue_Reported        2000 non-null   object \n",
      " 9   Service_Type          2000 non-null   object \n",
      " 10  Fuel_Consumed_Litres  2000 non-null   float64\n",
      " 11  Distance_Covered_KM   2000 non-null   float64\n",
      " 12  Insurance_Cost        2000 non-null   float64\n",
      " 13  Cost_of_Ownership     2000 non-null   float64\n",
      "dtypes: float64(5), object(9)\n",
      "memory usage: 218.9+ KB\n"
     ]
    }
   ],
   "source": [
    "# Check the overall summary of the dataset\n",
    "df.info()"
   ]
  },
  {
   "cell_type": "code",
   "execution_count": 6,
   "id": "6010bf02",
   "metadata": {},
   "outputs": [
    {
     "data": {
      "text/html": [
       "<div>\n",
       "<style scoped>\n",
       "    .dataframe tbody tr th:only-of-type {\n",
       "        vertical-align: middle;\n",
       "    }\n",
       "\n",
       "    .dataframe tbody tr th {\n",
       "        vertical-align: top;\n",
       "    }\n",
       "\n",
       "    .dataframe thead th {\n",
       "        text-align: right;\n",
       "    }\n",
       "</style>\n",
       "<table border=\"1\" class=\"dataframe\">\n",
       "  <thead>\n",
       "    <tr style=\"text-align: right;\">\n",
       "      <th></th>\n",
       "      <th>Purchase_Cost</th>\n",
       "      <th>Fuel_Consumed_Litres</th>\n",
       "      <th>Distance_Covered_KM</th>\n",
       "      <th>Insurance_Cost</th>\n",
       "      <th>Cost_of_Ownership</th>\n",
       "    </tr>\n",
       "  </thead>\n",
       "  <tbody>\n",
       "    <tr>\n",
       "      <th>count</th>\n",
       "      <td>2000.000000</td>\n",
       "      <td>2000.000000</td>\n",
       "      <td>2000.00000</td>\n",
       "      <td>2000.000000</td>\n",
       "      <td>2000.000000</td>\n",
       "    </tr>\n",
       "    <tr>\n",
       "      <th>mean</th>\n",
       "      <td>8367.711845</td>\n",
       "      <td>274.081440</td>\n",
       "      <td>1050.19967</td>\n",
       "      <td>17544.565110</td>\n",
       "      <td>38272.866165</td>\n",
       "    </tr>\n",
       "    <tr>\n",
       "      <th>std</th>\n",
       "      <td>4917.070495</td>\n",
       "      <td>200.005354</td>\n",
       "      <td>543.57157</td>\n",
       "      <td>7239.360388</td>\n",
       "      <td>9827.445765</td>\n",
       "    </tr>\n",
       "    <tr>\n",
       "      <th>min</th>\n",
       "      <td>1002.080000</td>\n",
       "      <td>2.770000</td>\n",
       "      <td>101.14000</td>\n",
       "      <td>5013.510000</td>\n",
       "      <td>13451.720000</td>\n",
       "    </tr>\n",
       "    <tr>\n",
       "      <th>25%</th>\n",
       "      <td>4774.432500</td>\n",
       "      <td>118.697500</td>\n",
       "      <td>586.37000</td>\n",
       "      <td>11298.700000</td>\n",
       "      <td>31157.925000</td>\n",
       "    </tr>\n",
       "    <tr>\n",
       "      <th>50%</th>\n",
       "      <td>7949.535000</td>\n",
       "      <td>241.230000</td>\n",
       "      <td>1053.86000</td>\n",
       "      <td>17516.245000</td>\n",
       "      <td>37836.185000</td>\n",
       "    </tr>\n",
       "    <tr>\n",
       "      <th>75%</th>\n",
       "      <td>11476.885000</td>\n",
       "      <td>391.290000</td>\n",
       "      <td>1504.24500</td>\n",
       "      <td>23914.725000</td>\n",
       "      <td>45180.057500</td>\n",
       "    </tr>\n",
       "    <tr>\n",
       "      <th>max</th>\n",
       "      <td>49116.030000</td>\n",
       "      <td>1672.780000</td>\n",
       "      <td>1996.07000</td>\n",
       "      <td>29991.720000</td>\n",
       "      <td>76952.110000</td>\n",
       "    </tr>\n",
       "  </tbody>\n",
       "</table>\n",
       "</div>"
      ],
      "text/plain": [
       "       Purchase_Cost  Fuel_Consumed_Litres  Distance_Covered_KM  \\\n",
       "count    2000.000000           2000.000000           2000.00000   \n",
       "mean     8367.711845            274.081440           1050.19967   \n",
       "std      4917.070495            200.005354            543.57157   \n",
       "min      1002.080000              2.770000            101.14000   \n",
       "25%      4774.432500            118.697500            586.37000   \n",
       "50%      7949.535000            241.230000           1053.86000   \n",
       "75%     11476.885000            391.290000           1504.24500   \n",
       "max     49116.030000           1672.780000           1996.07000   \n",
       "\n",
       "       Insurance_Cost  Cost_of_Ownership  \n",
       "count     2000.000000        2000.000000  \n",
       "mean     17544.565110       38272.866165  \n",
       "std       7239.360388        9827.445765  \n",
       "min       5013.510000       13451.720000  \n",
       "25%      11298.700000       31157.925000  \n",
       "50%      17516.245000       37836.185000  \n",
       "75%      23914.725000       45180.057500  \n",
       "max      29991.720000       76952.110000  "
      ]
     },
     "execution_count": 6,
     "metadata": {},
     "output_type": "execute_result"
    }
   ],
   "source": [
    "# Check the statiscal summmary\n",
    "df.describe()"
   ]
  },
  {
   "cell_type": "markdown",
   "id": "72b07a40",
   "metadata": {},
   "source": [
    "## DATA CLEANING \n",
    "\n",
    "In this chapter we aim to clean our data before proceeding with analysis. The core focus is checking for null values and duplicates. Null values can be handled by dropping the entire row or by filling them with mean or mode of the column. Duplicates are dropped so as to get the correct represantation of features during analysis. From the code below, we see that we do not have any null values. There are no duplicates in our data too. We can therefore proceed to the next step"
   ]
  },
  {
   "cell_type": "code",
   "execution_count": 8,
   "id": "eed785f8",
   "metadata": {},
   "outputs": [
    {
     "data": {
      "text/plain": [
       "Number_Plate            0\n",
       "Vehicle_Type            0\n",
       "Model                   0\n",
       "Part_Name               0\n",
       "Category                0\n",
       "Supplier                0\n",
       "Purchase_Cost           0\n",
       "Service_Date            0\n",
       "Issue_Reported          0\n",
       "Service_Type            0\n",
       "Fuel_Consumed_Litres    0\n",
       "Distance_Covered_KM     0\n",
       "Insurance_Cost          0\n",
       "Cost_of_Ownership       0\n",
       "dtype: int64"
      ]
     },
     "execution_count": 8,
     "metadata": {},
     "output_type": "execute_result"
    }
   ],
   "source": [
    "# Check for null values\n",
    "df.isnull().sum()"
   ]
  },
  {
   "cell_type": "code",
   "execution_count": 11,
   "id": "e7817989",
   "metadata": {},
   "outputs": [
    {
     "data": {
      "text/plain": [
       "0"
      ]
     },
     "execution_count": 11,
     "metadata": {},
     "output_type": "execute_result"
    }
   ],
   "source": [
    "# Check for duplicates\n",
    "df.duplicated().sum()"
   ]
  },
  {
   "cell_type": "markdown",
   "id": "7419bc5f",
   "metadata": {},
   "source": [
    "## EXPLORATORY DATA ANALYSIS\n",
    "\n",
    "In this section, we visualize different feature relationships. we aim to uncover the trends our our data at this point. Often, this is where we decide on the model that we will use for our project depending on the results of the visualizations."
   ]
  },
  {
   "cell_type": "markdown",
   "id": "771245d7",
   "metadata": {},
   "source": []
  }
 ],
 "metadata": {
  "kernelspec": {
   "display_name": "Python (learn-env)",
   "language": "python",
   "name": "learn-env"
  },
  "language_info": {
   "codemirror_mode": {
    "name": "ipython",
    "version": 3
   },
   "file_extension": ".py",
   "mimetype": "text/x-python",
   "name": "python",
   "nbconvert_exporter": "python",
   "pygments_lexer": "ipython3",
   "version": "3.8.5"
  }
 },
 "nbformat": 4,
 "nbformat_minor": 5
}
